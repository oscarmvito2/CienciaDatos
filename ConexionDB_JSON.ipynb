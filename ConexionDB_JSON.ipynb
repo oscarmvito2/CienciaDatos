{
  "nbformat": 4,
  "nbformat_minor": 0,
  "metadata": {
    "colab": {
      "provenance": [],
      "collapsed_sections": [],
      "include_colab_link": true
    },
    "kernelspec": {
      "name": "python3",
      "display_name": "Python 3"
    },
    "language_info": {
      "name": "python"
    }
  },
  "cells": [
    {
      "cell_type": "markdown",
      "metadata": {
        "id": "view-in-github",
        "colab_type": "text"
      },
      "source": [
        "<a href=\"https://colab.research.google.com/github/oscarmvito2/CienciaDatos/blob/main/ConexionDB_JSON.ipynb\" target=\"_parent\"><img src=\"https://colab.research.google.com/assets/colab-badge.svg\" alt=\"Open In Colab\"/></a>"
      ]
    },
    {
      "cell_type": "markdown",
      "source": [
        "**Conectarse a una fuente de datos JSON**\n",
        "El archivo Json se descarga de la liga:\n",
        "#https://datos.gob.mx/busca/dataset/estado-que-muestra-la-situacion-financiera-anual-del-instituto"
      ],
      "metadata": {
        "id": "PLkNy1Vov32k"
      }
    },
    {
      "cell_type": "code",
      "execution_count": null,
      "metadata": {
        "colab": {
          "base_uri": "https://localhost:8080/"
        },
        "id": "t_9eybijA8sj",
        "outputId": "c7092d65-b544-4933-d72c-d170539f4901"
      },
      "outputs": [
        {
          "output_type": "stream",
          "name": "stdout",
          "text": [
            "      Año  Orden                                    Concepto   Saldo\n",
            "0    2021      1                                      Bancos       1\n",
            "1    2021      2           Inversiones en Valores Temporales   87785\n",
            "2    2021      3  Derechos a Recibir Efectivo o Equivalentes       0\n",
            "3    2021      4       Derechos a Recibir Bienes o Servicios       0\n",
            "4    2021      5                Total de  Activo  Circulante   87786\n",
            "..    ...    ...                                         ...     ...\n",
            "307  2011     24               Total de Pasivo No Circulante  662415\n",
            "308  2011     25                           TOTAL DEL  PASIVO  862487\n",
            "309  2011     26            Resultado Integral del Ejercicio      -5\n",
            "310  2011     27                            Total Patrimonio      -5\n",
            "311  2011     28              TOTAL DEL  PASIVO Y PATRIMONIO  862482\n",
            "\n",
            "[312 rows x 4 columns]\n"
          ]
        }
      ],
      "source": [
        "import pandas as pd\n",
        "#https://datos.gob.mx/busca/dataset/estado-que-muestra-la-situacion-financiera-anual-del-instituto\n",
        "ruta_archivo_json2 = 'estadosdesituacionfinancierajson.json'\n",
        "json_df = pd.read_json(ruta_archivo_json2, orient='records')\n",
        "print(json_df) "
      ]
    },
    {
      "cell_type": "markdown",
      "source": [
        "**Para obtener los tipos de datos de todas las columnas del DataFrame**"
      ],
      "metadata": {
        "id": "kCbw5Ht6wTJ7"
      }
    },
    {
      "cell_type": "code",
      "source": [
        "json_df.dtypes"
      ],
      "metadata": {
        "colab": {
          "base_uri": "https://localhost:8080/"
        },
        "id": "yVYsejHOu6YT",
        "outputId": "2cbb8cc6-ca9b-4640-a086-5239f6299828"
      },
      "execution_count": null,
      "outputs": [
        {
          "output_type": "execute_result",
          "data": {
            "text/plain": [
              "Año          int64\n",
              "Orden        int64\n",
              "Concepto    object\n",
              "Saldo        int64\n",
              "dtype: object"
            ]
          },
          "metadata": {},
          "execution_count": 6
        }
      ]
    },
    {
      "cell_type": "markdown",
      "source": [
        "**En la siguiente seccción vemos como obtener el tipo de dato de una columna**"
      ],
      "metadata": {
        "id": "UJs98J7-wgcK"
      }
    },
    {
      "cell_type": "markdown",
      "source": [],
      "metadata": {
        "id": "UgyJVERMvniF"
      }
    },
    {
      "cell_type": "code",
      "source": [
        "json_df['Saldo'].dtype"
      ],
      "metadata": {
        "colab": {
          "base_uri": "https://localhost:8080/"
        },
        "id": "ZbEuR74qvmDs",
        "outputId": "2656b2a9-8679-41c1-d961-5ff9be747f36"
      },
      "execution_count": null,
      "outputs": [
        {
          "output_type": "execute_result",
          "data": {
            "text/plain": [
              "dtype('int64')"
            ]
          },
          "metadata": {},
          "execution_count": 9
        }
      ]
    },
    {
      "cell_type": "markdown",
      "source": [
        "**Conectarse a una BD sqlite**"
      ],
      "metadata": {
        "id": "N1q8OR0Sw9p4"
      }
    },
    {
      "cell_type": "markdown",
      "source": [
        "Nos conectamos a la BD para crear una tabla llamada USERS, una vez creada le insertamos registros"
      ],
      "metadata": {
        "id": "-4juCvINvmtL"
      }
    },
    {
      "cell_type": "code",
      "source": [
        "import sqlite3\n",
        "import os\n",
        "db = os.path.join(os.getcwd(),'Prueba.db3')\n",
        "con = sqlite3.connect(db)\n",
        "cur = con.cursor()\n",
        "cur.execute('''CREATE TABLE Users (nombre VARCHAR(128),edad INTEGER)''')\n",
        "con.commit()\n",
        "cur.execute('''INSERT INTO Users (NOMBRE, EDAD) VALUES('RAUL',10)''')\n",
        "cur.execute('''INSERT INTO Users (NOMBRE, EDAD) VALUES('LISA',8)''')\n",
        "cur.execute('''INSERT INTO Users (NOMBRE, EDAD) VALUES('ALBERTO',12)''')\n",
        "cur.execute('''INSERT INTO Users (NOMBRE, EDAD) VALUES('AILIN',12)''')\n",
        "con.commit()\n",
        "cur.close()\n",
        "con.close()\n"
      ],
      "metadata": {
        "id": "XKDkvvyg3sXc"
      },
      "execution_count": null,
      "outputs": []
    },
    {
      "cell_type": "markdown",
      "source": [
        "Realizamos la consulta de la tabla y los registros creados"
      ],
      "metadata": {
        "id": "08y7WSbqyPpg"
      }
    },
    {
      "cell_type": "code",
      "source": [
        "import sqlite3\n",
        "import os\n",
        "db = os.path.join(os.getcwd(),'Prueba.db3')\n",
        "conn = sqlite3.connect(db)\n",
        "db_df = pd.read_sql('SELECT * FROM users', conn)\n",
        "db_df"
      ],
      "metadata": {
        "colab": {
          "base_uri": "https://localhost:8080/",
          "height": 175
        },
        "id": "Y-AO-KSLybkw",
        "outputId": "93b982f2-b4d8-4553-e109-208e91bf10d7"
      },
      "execution_count": null,
      "outputs": [
        {
          "output_type": "execute_result",
          "data": {
            "text/plain": [
              "    nombre  edad\n",
              "0     RAUL    10\n",
              "1     LISA     8\n",
              "2  ALBERTO    12\n",
              "3    AILIN    12"
            ],
            "text/html": [
              "\n",
              "  <div id=\"df-796037f7-ea1c-4e66-9403-b19d0836d8a7\">\n",
              "    <div class=\"colab-df-container\">\n",
              "      <div>\n",
              "<style scoped>\n",
              "    .dataframe tbody tr th:only-of-type {\n",
              "        vertical-align: middle;\n",
              "    }\n",
              "\n",
              "    .dataframe tbody tr th {\n",
              "        vertical-align: top;\n",
              "    }\n",
              "\n",
              "    .dataframe thead th {\n",
              "        text-align: right;\n",
              "    }\n",
              "</style>\n",
              "<table border=\"1\" class=\"dataframe\">\n",
              "  <thead>\n",
              "    <tr style=\"text-align: right;\">\n",
              "      <th></th>\n",
              "      <th>nombre</th>\n",
              "      <th>edad</th>\n",
              "    </tr>\n",
              "  </thead>\n",
              "  <tbody>\n",
              "    <tr>\n",
              "      <th>0</th>\n",
              "      <td>RAUL</td>\n",
              "      <td>10</td>\n",
              "    </tr>\n",
              "    <tr>\n",
              "      <th>1</th>\n",
              "      <td>LISA</td>\n",
              "      <td>8</td>\n",
              "    </tr>\n",
              "    <tr>\n",
              "      <th>2</th>\n",
              "      <td>ALBERTO</td>\n",
              "      <td>12</td>\n",
              "    </tr>\n",
              "    <tr>\n",
              "      <th>3</th>\n",
              "      <td>AILIN</td>\n",
              "      <td>12</td>\n",
              "    </tr>\n",
              "  </tbody>\n",
              "</table>\n",
              "</div>\n",
              "      <button class=\"colab-df-convert\" onclick=\"convertToInteractive('df-796037f7-ea1c-4e66-9403-b19d0836d8a7')\"\n",
              "              title=\"Convert this dataframe to an interactive table.\"\n",
              "              style=\"display:none;\">\n",
              "        \n",
              "  <svg xmlns=\"http://www.w3.org/2000/svg\" height=\"24px\"viewBox=\"0 0 24 24\"\n",
              "       width=\"24px\">\n",
              "    <path d=\"M0 0h24v24H0V0z\" fill=\"none\"/>\n",
              "    <path d=\"M18.56 5.44l.94 2.06.94-2.06 2.06-.94-2.06-.94-.94-2.06-.94 2.06-2.06.94zm-11 1L8.5 8.5l.94-2.06 2.06-.94-2.06-.94L8.5 2.5l-.94 2.06-2.06.94zm10 10l.94 2.06.94-2.06 2.06-.94-2.06-.94-.94-2.06-.94 2.06-2.06.94z\"/><path d=\"M17.41 7.96l-1.37-1.37c-.4-.4-.92-.59-1.43-.59-.52 0-1.04.2-1.43.59L10.3 9.45l-7.72 7.72c-.78.78-.78 2.05 0 2.83L4 21.41c.39.39.9.59 1.41.59.51 0 1.02-.2 1.41-.59l7.78-7.78 2.81-2.81c.8-.78.8-2.07 0-2.86zM5.41 20L4 18.59l7.72-7.72 1.47 1.35L5.41 20z\"/>\n",
              "  </svg>\n",
              "      </button>\n",
              "      \n",
              "  <style>\n",
              "    .colab-df-container {\n",
              "      display:flex;\n",
              "      flex-wrap:wrap;\n",
              "      gap: 12px;\n",
              "    }\n",
              "\n",
              "    .colab-df-convert {\n",
              "      background-color: #E8F0FE;\n",
              "      border: none;\n",
              "      border-radius: 50%;\n",
              "      cursor: pointer;\n",
              "      display: none;\n",
              "      fill: #1967D2;\n",
              "      height: 32px;\n",
              "      padding: 0 0 0 0;\n",
              "      width: 32px;\n",
              "    }\n",
              "\n",
              "    .colab-df-convert:hover {\n",
              "      background-color: #E2EBFA;\n",
              "      box-shadow: 0px 1px 2px rgba(60, 64, 67, 0.3), 0px 1px 3px 1px rgba(60, 64, 67, 0.15);\n",
              "      fill: #174EA6;\n",
              "    }\n",
              "\n",
              "    [theme=dark] .colab-df-convert {\n",
              "      background-color: #3B4455;\n",
              "      fill: #D2E3FC;\n",
              "    }\n",
              "\n",
              "    [theme=dark] .colab-df-convert:hover {\n",
              "      background-color: #434B5C;\n",
              "      box-shadow: 0px 1px 3px 1px rgba(0, 0, 0, 0.15);\n",
              "      filter: drop-shadow(0px 1px 2px rgba(0, 0, 0, 0.3));\n",
              "      fill: #FFFFFF;\n",
              "    }\n",
              "  </style>\n",
              "\n",
              "      <script>\n",
              "        const buttonEl =\n",
              "          document.querySelector('#df-796037f7-ea1c-4e66-9403-b19d0836d8a7 button.colab-df-convert');\n",
              "        buttonEl.style.display =\n",
              "          google.colab.kernel.accessAllowed ? 'block' : 'none';\n",
              "\n",
              "        async function convertToInteractive(key) {\n",
              "          const element = document.querySelector('#df-796037f7-ea1c-4e66-9403-b19d0836d8a7');\n",
              "          const dataTable =\n",
              "            await google.colab.kernel.invokeFunction('convertToInteractive',\n",
              "                                                     [key], {});\n",
              "          if (!dataTable) return;\n",
              "\n",
              "          const docLinkHtml = 'Like what you see? Visit the ' +\n",
              "            '<a target=\"_blank\" href=https://colab.research.google.com/notebooks/data_table.ipynb>data table notebook</a>'\n",
              "            + ' to learn more about interactive tables.';\n",
              "          element.innerHTML = '';\n",
              "          dataTable['output_type'] = 'display_data';\n",
              "          await google.colab.output.renderOutput(dataTable, element);\n",
              "          const docLink = document.createElement('div');\n",
              "          docLink.innerHTML = docLinkHtml;\n",
              "          element.appendChild(docLink);\n",
              "        }\n",
              "      </script>\n",
              "    </div>\n",
              "  </div>\n",
              "  "
            ]
          },
          "metadata": {},
          "execution_count": 14
        }
      ]
    },
    {
      "cell_type": "markdown",
      "source": [
        "Consultamos el tipo de datos de cada columna del DataFrame"
      ],
      "metadata": {
        "id": "SdwPdRDHyuYh"
      }
    },
    {
      "cell_type": "code",
      "source": [
        "\n",
        "db_df.dtypes"
      ],
      "metadata": {
        "colab": {
          "base_uri": "https://localhost:8080/"
        },
        "id": "0zY3r8WrzGZQ",
        "outputId": "3b6145db-d639-4040-bfdb-f383087b5bbd"
      },
      "execution_count": null,
      "outputs": [
        {
          "output_type": "execute_result",
          "data": {
            "text/plain": [
              "nombre    object\n",
              "edad       int64\n",
              "dtype: object"
            ]
          },
          "metadata": {},
          "execution_count": 21
        }
      ]
    }
  ]
}